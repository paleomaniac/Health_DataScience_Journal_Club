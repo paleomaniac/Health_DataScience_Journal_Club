{
 "cells": [
  {
   "cell_type": "code",
   "execution_count": 1,
   "metadata": {},
   "outputs": [],
   "source": [
    "import pandas as pd\n",
    "import numpy as np\n",
    "import matplotlib.pyplot as plt\n",
    "import seaborn as sb"
   ]
  },
  {
   "cell_type": "code",
   "execution_count": 2,
   "metadata": {},
   "outputs": [],
   "source": [
    "df = pd.read_csv(\"analyte_data.csv\")"
   ]
  },
  {
   "cell_type": "code",
   "execution_count": 3,
   "metadata": {},
   "outputs": [
    {
     "data": {
      "text/html": [
       "<div>\n",
       "<style scoped>\n",
       "    .dataframe tbody tr th:only-of-type {\n",
       "        vertical-align: middle;\n",
       "    }\n",
       "\n",
       "    .dataframe tbody tr th {\n",
       "        vertical-align: top;\n",
       "    }\n",
       "\n",
       "    .dataframe thead th {\n",
       "        text-align: right;\n",
       "    }\n",
       "</style>\n",
       "<table border=\"1\" class=\"dataframe\">\n",
       "  <thead>\n",
       "    <tr style=\"text-align: right;\">\n",
       "      <th></th>\n",
       "      <th>analyte</th>\n",
       "      <th>lab</th>\n",
       "      <th>age</th>\n",
       "      <th>lower_limit</th>\n",
       "      <th>upper_limit</th>\n",
       "    </tr>\n",
       "  </thead>\n",
       "  <tbody>\n",
       "    <tr>\n",
       "      <th>0</th>\n",
       "      <td>alanine</td>\n",
       "      <td>benioff</td>\n",
       "      <td>child</td>\n",
       "      <td>200.0</td>\n",
       "      <td>450.0</td>\n",
       "    </tr>\n",
       "    <tr>\n",
       "      <th>1</th>\n",
       "      <td>alanine</td>\n",
       "      <td>benioff</td>\n",
       "      <td>adult</td>\n",
       "      <td>230.0</td>\n",
       "      <td>510.0</td>\n",
       "    </tr>\n",
       "    <tr>\n",
       "      <th>2</th>\n",
       "      <td>Alpha-aminoadipic acid</td>\n",
       "      <td>benioff</td>\n",
       "      <td>child</td>\n",
       "      <td>NaN</td>\n",
       "      <td>NaN</td>\n",
       "    </tr>\n",
       "    <tr>\n",
       "      <th>3</th>\n",
       "      <td>Alpha-aminoadipic acid</td>\n",
       "      <td>benioff</td>\n",
       "      <td>adult</td>\n",
       "      <td>NaN</td>\n",
       "      <td>NaN</td>\n",
       "    </tr>\n",
       "    <tr>\n",
       "      <th>4</th>\n",
       "      <td>Alpha-amino-N-butyric acid</td>\n",
       "      <td>benioff</td>\n",
       "      <td>child</td>\n",
       "      <td>8.0</td>\n",
       "      <td>37.0</td>\n",
       "    </tr>\n",
       "  </tbody>\n",
       "</table>\n",
       "</div>"
      ],
      "text/plain": [
       "                      analyte      lab    age  lower_limit  upper_limit\n",
       "0                     alanine  benioff  child        200.0        450.0\n",
       "1                     alanine  benioff  adult        230.0        510.0\n",
       "2      Alpha-aminoadipic acid  benioff  child          NaN          NaN\n",
       "3      Alpha-aminoadipic acid  benioff  adult          NaN          NaN\n",
       "4  Alpha-amino-N-butyric acid  benioff  child          8.0         37.0"
      ]
     },
     "execution_count": 3,
     "metadata": {},
     "output_type": "execute_result"
    }
   ],
   "source": [
    "df.head()"
   ]
  },
  {
   "cell_type": "code",
   "execution_count": 34,
   "metadata": {},
   "outputs": [
    {
     "name": "stdout",
     "output_type": "stream",
     "text": [
      "age:  ['child' 'adult']\n",
      "\n",
      "lab:  ['benioff' 'mayo' 'labcorp']\n",
      "\n",
      "analyte:  ['alanine' 'Alpha-aminoadipic acid' 'Alpha-amino-N-butyric acid'\n",
      " 'Arginine' 'Asparagine' 'Aspartic acid' 'Beta-alanine'\n",
      " 'Beta-amino-isobutyric acid' 'Carnosine' 'Citrulline' 'Cystine'\n",
      " 'Glutamic acid' 'Glutamine' 'Glycine' 'Histidine' 'Hydroxyproline'\n",
      " 'Isoleucine' 'Leucine' 'Lysine' 'Methionine' '1-methylhistidine'\n",
      " '3-methylhistidine' 'Ornithine' 'Phenylalanine' 'Phosphoserine'\n",
      " 'Phosphoethanolamine' 'Proline' 'Serine' 'Taurine' 'Threonine' 'Tyrosine'\n",
      " 'Valine' 'ethanolamine' 'Sarcosine' 'Argininosuccinic Acid' 'Anserine'\n",
      " 'Homocitruline' 'g-Amino-n-butyric Acid' 'Beta-Aminoisobutyric Acid'\n",
      " 'Hydroxylysine' 'Cystathionine' 'Tryptophan' 'Alloisoleucine'\n",
      " 'Homocystine']\n"
     ]
    }
   ],
   "source": [
    "print(\"age: \",df['age'].unique())\n",
    "print(\"\")\n",
    "print(\"lab: \", df['lab'].unique())\n",
    "#create it as a list\n",
    "print(\"\")\n",
    "print(\"analyte: \", df['analyte'].unique())"
   ]
  },
  {
   "cell_type": "code",
   "execution_count": 5,
   "metadata": {},
   "outputs": [
    {
     "name": "stdout",
     "output_type": "stream",
     "text": [
      "          analyte    lab    age  lower_limit  upper_limit\n",
      "150  ethanolamine  mayo   child          0.0         70.0\n",
      "151  ethanolamine  mayo   adult          0.0         67.0\n",
      "2\n",
      "lab:  ['benioff' 'mayo' 'labcorp']\n",
      "analyte   :   264\n",
      "lab   :   264\n",
      "age   :   264\n",
      "lower_limit   :   264\n",
      "upper_limit   :   264\n"
     ]
    }
   ],
   "source": [
    "print(df[df['lab']=='mayo '])\n",
    "print(len(df[df['lab']=='mayo ']))\n",
    "df = df.replace(['mayo '],'mayo')\n",
    "print(\"lab: \", df['lab'].unique())\n",
    "for i in df.columns:\n",
    "    print(i, \"  :  \", len(df[i]))"
   ]
  },
  {
   "cell_type": "code",
   "execution_count": 6,
   "metadata": {},
   "outputs": [
    {
     "name": "stdout",
     "output_type": "stream",
     "text": [
      "     lower_limit  upper_limit\n",
      "0          200.0        450.0\n",
      "1          230.0        510.0\n",
      "2            NaN          NaN\n",
      "3            NaN          NaN\n",
      "4            8.0         37.0\n",
      "..           ...          ...\n",
      "259          NaN          NaN\n",
      "260          NaN          NaN\n",
      "261          NaN          NaN\n",
      "262          0.4          3.0\n",
      "263          0.1          0.8\n",
      "\n",
      "[264 rows x 2 columns]\n"
     ]
    }
   ],
   "source": [
    "temp_data = df.loc[:,['lower_limit', 'upper_limit']]\n",
    "print(temp_data)"
   ]
  },
  {
   "cell_type": "code",
   "execution_count": 7,
   "metadata": {},
   "outputs": [
    {
     "name": "stdout",
     "output_type": "stream",
     "text": [
      "0      [200.0, 450.0]\n",
      "1      [230.0, 510.0]\n",
      "2          [nan, nan]\n",
      "3          [nan, nan]\n",
      "4         [8.0, 37.0]\n",
      "            ...      \n",
      "259        [nan, nan]\n",
      "260        [nan, nan]\n",
      "261        [nan, nan]\n",
      "262        [0.4, 3.0]\n",
      "263        [0.1, 0.8]\n",
      "Name: range, Length: 264, dtype: object\n"
     ]
    }
   ],
   "source": [
    "df['range'] = temp_data.values.tolist()\n",
    "print(df['range'])\n",
    "for i in range(len(child_df['range'])):\n",
    "    print(i,\"  Min: \",child_df['range'].iloc[i][0])\n",
    "    print(i,\"  Max: \",child_df['range'].iloc[i][1])"
   ]
  },
  {
   "cell_type": "code",
   "execution_count": 15,
   "metadata": {},
   "outputs": [
    {
     "name": "stdout",
     "output_type": "stream",
     "text": [
      "                        analyte      lab    age  lower_limit  upper_limit  \\\n",
      "173                     alanine  labcorp  adult        124.8        564.2   \n",
      "175      Alpha-aminoadipic acid  labcorp  adult          0.0          2.2   \n",
      "177  Alpha-amino-N-butyric acid  labcorp  adult          5.4         34.5   \n",
      "179                    Arginine  labcorp  adult         32.0        150.0   \n",
      "181                  Asparagine  labcorp  adult         29.5         84.5   \n",
      "183               Aspartic acid  labcorp  adult          0.9          7.4   \n",
      "185                Beta-alanine  labcorp  adult          1.1          9.0   \n",
      "187  Beta-amino-isobutyric acid  labcorp  adult          NaN          NaN   \n",
      "189                   Carnosine  labcorp  adult          NaN          NaN   \n",
      "191                  Citrulline  labcorp  adult         13.7         63.2   \n",
      "193                     Cystine  labcorp  adult         13.5         60.2   \n",
      "195               Glutamic acid  labcorp  adult         18.1        155.9   \n",
      "197                   Glutamine  labcorp  adult        332.0        754.0   \n",
      "199                     Glycine  labcorp  adult        132.0        467.0   \n",
      "201                   Histidine  labcorp  adult         47.2         98.5   \n",
      "203              Hydroxyproline  labcorp  adult          4.7         35.2   \n",
      "205                  Isoleucine  labcorp  adult         27.7        112.8   \n",
      "207                     Leucine  labcorp  adult         54.9        205.0   \n",
      "209                      Lysine  labcorp  adult         94.0        278.0   \n",
      "211                  Methionine  labcorp  adult         12.7         41.1   \n",
      "213           1-methylhistidine  labcorp  adult          NaN          NaN   \n",
      "215           3-methylhistidine  labcorp  adult          NaN          NaN   \n",
      "217                   Ornithine  labcorp  adult         30.5        131.4   \n",
      "219               Phenylalanine  labcorp  adult         33.6        101.9   \n",
      "221               Phosphoserine  labcorp  adult          NaN          NaN   \n",
      "223         Phosphoethanolamine  labcorp  adult          NaN          NaN   \n",
      "225                     Proline  labcorp  adult         84.8        352.5   \n",
      "227                      Serine  labcorp  adult         48.7        145.2   \n",
      "229                     Taurine  labcorp  adult         29.2        132.3   \n",
      "231                   Threonine  labcorp  adult         67.8        211.6   \n",
      "233                    Tyrosine  labcorp  adult         31.1        118.1   \n",
      "235                      Valine  labcorp  adult        102.6        345.4   \n",
      "237                ethanolamine  labcorp  adult          NaN          NaN   \n",
      "239                   Sarcosine  labcorp  adult          0.0          4.0   \n",
      "241       Argininosuccinic Acid  labcorp  adult          NaN          NaN   \n",
      "243                    Anserine  labcorp  adult          NaN          NaN   \n",
      "245               Homocitruline  labcorp  adult          0.0          1.7   \n",
      "247      g-Amino-n-butyric Acid  labcorp  adult          0.0          0.3   \n",
      "249   Beta-Aminoisobutyric Acid  labcorp  adult          0.3          4.3   \n",
      "251               Cystathionine  labcorp  adult          NaN          NaN   \n",
      "253                  Tryptophan  labcorp  adult          NaN          NaN   \n",
      "255              Alloisoleucine  labcorp  adult          0.4          3.2   \n",
      "257                 Homocystine  labcorp  adult          0.0          0.1   \n",
      "263               Hydroxylysine  labcorp  adult          0.1          0.8   \n",
      "\n",
      "              range  \n",
      "173  [124.8, 564.2]  \n",
      "175      [0.0, 2.2]  \n",
      "177     [5.4, 34.5]  \n",
      "179   [32.0, 150.0]  \n",
      "181    [29.5, 84.5]  \n",
      "183      [0.9, 7.4]  \n",
      "185      [1.1, 9.0]  \n",
      "187      [nan, nan]  \n",
      "189      [nan, nan]  \n",
      "191    [13.7, 63.2]  \n",
      "193    [13.5, 60.2]  \n",
      "195   [18.1, 155.9]  \n",
      "197  [332.0, 754.0]  \n",
      "199  [132.0, 467.0]  \n",
      "201    [47.2, 98.5]  \n",
      "203     [4.7, 35.2]  \n",
      "205   [27.7, 112.8]  \n",
      "207   [54.9, 205.0]  \n",
      "209   [94.0, 278.0]  \n",
      "211    [12.7, 41.1]  \n",
      "213      [nan, nan]  \n",
      "215      [nan, nan]  \n",
      "217   [30.5, 131.4]  \n",
      "219   [33.6, 101.9]  \n",
      "221      [nan, nan]  \n",
      "223      [nan, nan]  \n",
      "225   [84.8, 352.5]  \n",
      "227   [48.7, 145.2]  \n",
      "229   [29.2, 132.3]  \n",
      "231   [67.8, 211.6]  \n",
      "233   [31.1, 118.1]  \n",
      "235  [102.6, 345.4]  \n",
      "237      [nan, nan]  \n",
      "239      [0.0, 4.0]  \n",
      "241      [nan, nan]  \n",
      "243      [nan, nan]  \n",
      "245      [0.0, 1.7]  \n",
      "247      [0.0, 0.3]  \n",
      "249      [0.3, 4.3]  \n",
      "251      [nan, nan]  \n",
      "253      [nan, nan]  \n",
      "255      [0.4, 3.2]  \n",
      "257      [0.0, 0.1]  \n",
      "263      [0.1, 0.8]  \n"
     ]
    }
   ],
   "source": [
    "child_df = df[df['age']=='child']\n",
    "adult_df = df[df['age']=='adult']\n",
    "child_df_mayo = child_df[child_df['lab']=='mayo']\n",
    "child_df_benioff = child_df[child_df['lab']=='benioff']\n",
    "child_df_labcorp = child_df[child_df['lab']=='labcorp']\n",
    "adult_df_mayo = adult_df[adult_df['lab']=='mayo']\n",
    "adult_df_benioff = adult_df[adult_df['lab']=='benioff']\n",
    "adult_df_labcorp = adult_df[adult_df['lab']=='labcorp']\n",
    "print(adult_df_labcorp)"
   ]
  },
  {
   "cell_type": "code",
   "execution_count": 18,
   "metadata": {},
   "outputs": [],
   "source": [
    "min_child_mayo = child_df_mayo['lower_limit'].tolist() \n",
    "min_child_benioff =child_df_benioff['lower_limit'].tolist() \n",
    "min_child_labcorp =child_df_labcorp['lower_limit'].tolist()\n",
    "min_adult_mayo = adult_df_mayo['lower_limit'].tolist() \n",
    "min_adult_benioff =adult_df_benioff['lower_limit'].tolist() \n",
    "min_adult_labcorp =adult_df_labcorp['lower_limit'].tolist()"
   ]
  },
  {
   "cell_type": "code",
   "execution_count": 19,
   "metadata": {},
   "outputs": [],
   "source": [
    "max_child_mayo = child_df_mayo['upper_limit'].tolist() \n",
    "max_child_benioff =child_df_benioff['upper_limit'].tolist() \n",
    "max_child_labcorp =child_df_labcorp['upper_limit'].tolist()\n",
    "max_adult_mayo = adult_df_mayo['upper_limit'].tolist() \n",
    "max_adult_benioff =adult_df_benioff['upper_limit'].tolist() \n",
    "max_adult_labcorp =adult_df_labcorp['upper_limit'].tolist()"
   ]
  },
  {
   "cell_type": "code",
   "execution_count": 20,
   "metadata": {},
   "outputs": [
    {
     "data": {
      "text/plain": [
       "[474.0,\n",
       " 4.0,\n",
       " 28.0,\n",
       " 134.0,\n",
       " 91.0,\n",
       " 20.0,\n",
       " 28.0,\n",
       " 9.0,\n",
       " 13.0,\n",
       " 38.0,\n",
       " 32.0,\n",
       " 202.0,\n",
       " 1020.0,\n",
       " 426.0,\n",
       " 116.0,\n",
       " 61.0,\n",
       " 105.0,\n",
       " 175.0,\n",
       " 204.0,\n",
       " 35.0,\n",
       " 11.0,\n",
       " 1.0,\n",
       " 130.0,\n",
       " 80.0,\n",
       " 109.0,\n",
       " 6.0,\n",
       " 303.0,\n",
       " 271.0,\n",
       " 177.0,\n",
       " 237.0,\n",
       " 115.0,\n",
       " 300.0,\n",
       " 70.0,\n",
       " 5.0,\n",
       " 2.0,\n",
       " 1.0,\n",
       " 5.0,\n",
       " 4.0,\n",
       " 9.0,\n",
       " 4.0,\n",
       " 2.0,\n",
       " 75.0,\n",
       " 2.0,\n",
       " nan]"
      ]
     },
     "execution_count": 20,
     "metadata": {},
     "output_type": "execute_result"
    }
   ],
   "source": [
    "max_child_mayo"
   ]
  },
  {
   "cell_type": "code",
   "execution_count": 24,
   "metadata": {},
   "outputs": [
    {
     "data": {
      "text/plain": [
       "Text(0.5, 1.0, 'Child Values')"
      ]
     },
     "execution_count": 24,
     "metadata": {},
     "output_type": "execute_result"
    },
    {
     "data": {
      "image/png": "[encoded data removed]",
      "text/plain": [
       "<Figure size 432x288 with 1 Axes>"
      ]
     },
     "metadata": {
      "needs_background": "light"
     },
     "output_type": "display_data"
    }
   ],
   "source": [
    "plt.plot(min_child_mayo,max_child_mayo, 'o', color = 'r', label = 'Mayo')\n",
    "plt.plot(min_child_benioff,max_child_benioff, '^', color = 'b', label = 'Benioff')\n",
    "plt.plot(min_child_labcorp,max_child_labcorp, '.', color = 'g', label = 'labcorp')\n",
    "plt.legend()\n",
    "plt.xlabel('Min Value')\n",
    "plt.ylabel('Max Value')\n",
    "plt.title(\"Child Values\")"
   ]
  },
  {
   "cell_type": "code",
   "execution_count": 25,
   "metadata": {},
   "outputs": [
    {
     "data": {
      "text/plain": [
       "Text(0.5, 1.0, 'Adult Values')"
      ]
     },
     "execution_count": 25,
     "metadata": {},
     "output_type": "execute_result"
    },
    {
     "data": {
      "image/png": "[encoded data removed]",
      "text/plain": [
       "<Figure size 432x288 with 1 Axes>"
      ]
     },
     "metadata": {
      "needs_background": "light"
     },
     "output_type": "display_data"
    }
   ],
   "source": [
    "plt.plot(min_adult_mayo,max_adult_mayo, 'o', color = 'r', label = 'Mayo')\n",
    "plt.plot(min_adult_benioff,max_adult_benioff, '^', color = 'b', label = 'Benioff')\n",
    "plt.plot(min_adult_labcorp,max_adult_labcorp, '.', color = 'g', label = 'labcorp')\n",
    "plt.legend()\n",
    "plt.xlabel('Min Value')\n",
    "plt.ylabel('Max Value')\n",
    "plt.title(\"Adult Values\")"
   ]
  },
  {
   "cell_type": "code",
   "execution_count": 32,
   "metadata": {},
   "outputs": [
    {
     "data": {
      "text/plain": [
       "<AxesSubplot:>"
      ]
     },
     "execution_count": 32,
     "metadata": {},
     "output_type": "execute_result"
    },
    {
     "data": {
      "image/png": "[encoded data removed]",
      "text/plain": [
       "<Figure size 432x288 with 1 Axes>"
      ]
     },
     "metadata": {
      "needs_background": "light"
     },
     "output_type": "display_data"
    }
   ],
   "source": [
    "child_df[child_df['analyte']=='alanine'].loc[:,['analyte','lower_limit']].plot()"
   ]
  },
  {
   "cell_type": "code",
   "execution_count": 53,
   "metadata": {},
   "outputs": [
    {
     "name": "stdout",
     "output_type": "stream",
     "text": [
      "44\n",
      "Lower\n",
      "Max 420.0\n",
      "Min 0.0\n",
      "Upper\n",
      "Max 1020.0\n",
      "Min 0.1\n"
     ]
    }
   ],
   "source": [
    "x_tick_labels = list(child_df['analyte'].unique())\n",
    "print(len(x_tick_labels))\n",
    "print(\"Lower\")\n",
    "print(\"Max\",child_df['lower_limit'].max())\n",
    "print(\"Min\",child_df['lower_limit'].min())\n",
    "print(\"Upper\")\n",
    "print(\"Max\",child_df['upper_limit'].max())\n",
    "print(\"Min\",child_df['upper_limit'].min())"
   ]
  },
  {
   "cell_type": "code",
   "execution_count": 59,
   "metadata": {},
   "outputs": [
    {
     "data": {
      "text/plain": [
       "<matplotlib.collections.PathCollection at 0x241206c2fa0>"
      ]
     },
     "execution_count": 59,
     "metadata": {},
     "output_type": "execute_result"
    },
    {
     "data": {
      "image/png": "[encoded data removed]",
      "text/plain": [
       "<Figure size 432x288 with 1 Axes>"
      ]
     },
     "metadata": {
      "needs_background": "light"
     },
     "output_type": "display_data"
    }
   ],
   "source": [
    "x = [1,1,1]\n",
    "y = [2,3,4]\n",
    "plt.scatter(1,2, color = 'r', label = 'test1')\n",
    "plt.scatter(1,4, color = 'g', label = 'test2')\n",
    "plt.scatter(2,4, color = 'r', label = 'test1')\n",
    "plt.scatter(2,5, color = 'g', label = 'test2')\n",
    "plt.scatter(3,3, color = 'r', label = 'test1')\n",
    "plt.scatter(3,1, color = 'g', label = 'test2')\n"
   ]
  },
  {
   "cell_type": "code",
   "execution_count": null,
   "metadata": {},
   "outputs": [],
   "source": [
    "44\n",
    "Lower\n",
    "Max 420.0\n",
    "Min 0.0\n",
    "Upper\n",
    "Max 1020.0\n",
    "Min 0.1"
   ]
  },
  {
   "cell_type": "code",
   "execution_count": 75,
   "metadata": {},
   "outputs": [
    {
     "data": {
      "text/plain": [
       "[Text(0, 0, 'alanine'),\n",
       " Text(1, 0, 'Alpha-aminoadipic acid'),\n",
       " Text(2, 0, 'Alpha-amino-N-butyric acid'),\n",
       " Text(3, 0, 'Arginine'),\n",
       " Text(4, 0, 'Asparagine'),\n",
       " Text(5, 0, 'Aspartic acid'),\n",
       " Text(6, 0, 'Beta-alanine'),\n",
       " Text(7, 0, 'Beta-amino-isobutyric acid'),\n",
       " Text(8, 0, 'Carnosine'),\n",
       " Text(9, 0, 'Citrulline'),\n",
       " Text(10, 0, 'Cystine'),\n",
       " Text(11, 0, 'Glutamic acid'),\n",
       " Text(12, 0, 'Glutamine'),\n",
       " Text(13, 0, 'Glycine'),\n",
       " Text(14, 0, 'Histidine'),\n",
       " Text(15, 0, 'Hydroxyproline'),\n",
       " Text(16, 0, 'Isoleucine'),\n",
       " Text(17, 0, 'Leucine'),\n",
       " Text(18, 0, 'Lysine'),\n",
       " Text(19, 0, 'Methionine'),\n",
       " Text(20, 0, '1-methylhistidine'),\n",
       " Text(21, 0, '3-methylhistidine'),\n",
       " Text(22, 0, 'Ornithine'),\n",
       " Text(23, 0, 'Phenylalanine'),\n",
       " Text(24, 0, 'Phosphoserine'),\n",
       " Text(25, 0, 'Phosphoethanolamine'),\n",
       " Text(26, 0, 'Proline'),\n",
       " Text(27, 0, 'Serine'),\n",
       " Text(28, 0, 'Taurine'),\n",
       " Text(29, 0, 'Threonine'),\n",
       " Text(30, 0, 'Tyrosine'),\n",
       " Text(31, 0, 'Valine'),\n",
       " Text(32, 0, 'ethanolamine'),\n",
       " Text(33, 0, 'Sarcosine'),\n",
       " Text(34, 0, 'Argininosuccinic Acid'),\n",
       " Text(35, 0, 'Anserine'),\n",
       " Text(36, 0, 'Homocitruline'),\n",
       " Text(37, 0, 'g-Amino-n-butyric Acid'),\n",
       " Text(38, 0, 'Beta-Aminoisobutyric Acid'),\n",
       " Text(39, 0, 'Hydroxylysine'),\n",
       " Text(40, 0, 'Cystathionine'),\n",
       " Text(41, 0, 'Tryptophan'),\n",
       " Text(42, 0, 'Alloisoleucine'),\n",
       " Text(43, 0, 'Homocystine')]"
      ]
     },
     "execution_count": 75,
     "metadata": {},
     "output_type": "execute_result"
    },
    {
     "data": {
      "image/png": "[encoded data removed]",
      "text/plain": [
       "<Figure size 432x288 with 1 Axes>"
      ]
     },
     "metadata": {
      "needs_background": "light"
     },
     "output_type": "display_data"
    }
   ],
   "source": [
    "value_range = list(range(44))\n",
    "fig = plt.figure()\n",
    "ax = fig.add_axes([0,0,2,2])\n",
    "ax.scatter(value_range, min_child_mayo, color = 'r', label = 'Mayo')\n",
    "ax.scatter(value_range, min_child_benioff, color = 'b', label = 'Benioff')\n",
    "ax.scatter(value_range, min_child_labcorp, color = 'g', label = 'Labcorp')\n",
    "ax.set_xticks(list(range(44)))\n",
    "ax.set_xticklabels(list(df['analyte'].unique()), rotation= 'vertical')"
   ]
  },
  {
   "cell_type": "code",
   "execution_count": null,
   "metadata": {},
   "outputs": [],
   "source": []
  }
 ],
 "metadata": {
  "kernelspec": {
   "display_name": "Python 3",
   "language": "python",
   "name": "python3"
  },
  "language_info": {
   "codemirror_mode": {
    "name": "ipython",
    "version": 3
   },
   "file_extension": ".py",
   "mimetype": "text/x-python",
   "name": "python",
   "nbconvert_exporter": "python",
   "pygments_lexer": "ipython3",
   "version": "3.9.4"
  }
 },
 "nbformat": 4,
 "nbformat_minor": 4
}
