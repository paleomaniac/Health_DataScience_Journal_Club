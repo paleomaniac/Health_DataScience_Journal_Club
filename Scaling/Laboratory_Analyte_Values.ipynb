{
 "cells": [
  {
   "cell_type": "code",
   "execution_count": 64,
   "metadata": {},
   "outputs": [],
   "source": [
    "import pandas as pd\n",
    "import numpy as np\n",
    "import matplotlib.pyplot as plt\n",
    "import seaborn as sb\n",
    "from statistics import mean "
   ]
  },
  {
   "cell_type": "code",
   "execution_count": 3,
   "metadata": {},
   "outputs": [],
   "source": [
    "df = pd.read_csv(\"analyte_data.csv\")"
   ]
  },
  {
   "cell_type": "code",
   "execution_count": 4,
   "metadata": {},
   "outputs": [
    {
     "data": {
      "text/html": [
       "<div>\n",
       "<style scoped>\n",
       "    .dataframe tbody tr th:only-of-type {\n",
       "        vertical-align: middle;\n",
       "    }\n",
       "\n",
       "    .dataframe tbody tr th {\n",
       "        vertical-align: top;\n",
       "    }\n",
       "\n",
       "    .dataframe thead th {\n",
       "        text-align: right;\n",
       "    }\n",
       "</style>\n",
       "<table border=\"1\" class=\"dataframe\">\n",
       "  <thead>\n",
       "    <tr style=\"text-align: right;\">\n",
       "      <th></th>\n",
       "      <th>analyte</th>\n",
       "      <th>lab</th>\n",
       "      <th>age</th>\n",
       "      <th>lower_limit</th>\n",
       "      <th>upper_limit</th>\n",
       "    </tr>\n",
       "  </thead>\n",
       "  <tbody>\n",
       "    <tr>\n",
       "      <th>0</th>\n",
       "      <td>alanine</td>\n",
       "      <td>benioff</td>\n",
       "      <td>child</td>\n",
       "      <td>200.0</td>\n",
       "      <td>450.0</td>\n",
       "    </tr>\n",
       "    <tr>\n",
       "      <th>1</th>\n",
       "      <td>alanine</td>\n",
       "      <td>benioff</td>\n",
       "      <td>adult</td>\n",
       "      <td>230.0</td>\n",
       "      <td>510.0</td>\n",
       "    </tr>\n",
       "    <tr>\n",
       "      <th>2</th>\n",
       "      <td>Alpha-aminoadipic acid</td>\n",
       "      <td>benioff</td>\n",
       "      <td>child</td>\n",
       "      <td>NaN</td>\n",
       "      <td>NaN</td>\n",
       "    </tr>\n",
       "    <tr>\n",
       "      <th>3</th>\n",
       "      <td>Alpha-aminoadipic acid</td>\n",
       "      <td>benioff</td>\n",
       "      <td>adult</td>\n",
       "      <td>NaN</td>\n",
       "      <td>NaN</td>\n",
       "    </tr>\n",
       "    <tr>\n",
       "      <th>4</th>\n",
       "      <td>Alpha-amino-N-butyric acid</td>\n",
       "      <td>benioff</td>\n",
       "      <td>child</td>\n",
       "      <td>8.0</td>\n",
       "      <td>37.0</td>\n",
       "    </tr>\n",
       "  </tbody>\n",
       "</table>\n",
       "</div>"
      ],
      "text/plain": [
       "                      analyte      lab    age  lower_limit  upper_limit\n",
       "0                     alanine  benioff  child        200.0        450.0\n",
       "1                     alanine  benioff  adult        230.0        510.0\n",
       "2      Alpha-aminoadipic acid  benioff  child          NaN          NaN\n",
       "3      Alpha-aminoadipic acid  benioff  adult          NaN          NaN\n",
       "4  Alpha-amino-N-butyric acid  benioff  child          8.0         37.0"
      ]
     },
     "execution_count": 4,
     "metadata": {},
     "output_type": "execute_result"
    }
   ],
   "source": [
    "df.head()"
   ]
  },
  {
   "cell_type": "code",
   "execution_count": 5,
   "metadata": {},
   "outputs": [
    {
     "name": "stdout",
     "output_type": "stream",
     "text": [
      "age:  ['child' 'adult']\n",
      "lab:  ['benioff' 'mayo' 'mayo ' 'labcorp']\n",
      "analyte:  ['alanine' 'Alpha-aminoadipic acid' 'Alpha-amino-N-butyric acid'\n",
      " 'Arginine' 'Asparagine' 'Aspartic acid' 'Beta-alanine'\n",
      " 'Beta-amino-isobutyric acid' 'Carnosine' 'Citrulline' 'Cystine'\n",
      " 'Glutamic acid' 'Glutamine' 'Glycine' 'Histidine' 'Hydroxyproline'\n",
      " 'Isoleucine' 'Leucine' 'Lysine' 'Methionine' '1-methylhistidine'\n",
      " '3-methylhistidine' 'Ornithine' 'Phenylalanine' 'Phosphoserine'\n",
      " 'Phosphoethanolamine' 'Proline' 'Serine' 'Taurine' 'Threonine' 'Tyrosine'\n",
      " 'Valine' 'ethanolamine' 'Sarcosine' 'Argininosuccinic Acid' 'Anserine'\n",
      " 'Homocitruline' 'g-Amino-n-butyric Acid' 'Beta-Aminoisobutyric Acid'\n",
      " 'Hydroxylysine' 'Cystathionine' 'Tryptophan' 'Alloisoleucine'\n",
      " 'Homocystine']\n"
     ]
    }
   ],
   "source": [
    "print(\"age: \", df['age'].unique())\n",
    "print(\"lab: \", df['lab'].unique())\n",
    "print(\"analyte: \", df['analyte'].unique())"
   ]
  },
  {
   "cell_type": "code",
   "execution_count": 8,
   "metadata": {},
   "outputs": [
    {
     "name": "stdout",
     "output_type": "stream",
     "text": [
      "          analyte    lab    age  lower_limit  upper_limit\n",
      "150  ethanolamine  mayo   child          0.0         70.0\n",
      "151  ethanolamine  mayo   adult          0.0         67.0\n",
      "lab:  ['benioff' 'mayo' 'labcorp']\n"
     ]
    }
   ],
   "source": [
    "print(df[df['lab']=='mayo '])\n",
    "df = df.replace(['mayo '],'mayo')\n",
    "print(\"lab: \", df['lab'].unique())"
   ]
  },
  {
   "cell_type": "code",
   "execution_count": 11,
   "metadata": {},
   "outputs": [
    {
     "name": "stdout",
     "output_type": "stream",
     "text": [
      "     lower_limit  upper_limit\n",
      "0          200.0        450.0\n",
      "1          230.0        510.0\n",
      "2            NaN          NaN\n",
      "3            NaN          NaN\n",
      "4            8.0         37.0\n",
      "..           ...          ...\n",
      "259          NaN          NaN\n",
      "260          NaN          NaN\n",
      "261          NaN          NaN\n",
      "262          0.4          3.0\n",
      "263          0.1          0.8\n",
      "\n",
      "[264 rows x 2 columns]\n"
     ]
    }
   ],
   "source": [
    "temp_data = df.loc[:,['lower_limit','upper_limit']]\n",
    "print(temp_data)"
   ]
  },
  {
   "cell_type": "code",
   "execution_count": 12,
   "metadata": {},
   "outputs": [
    {
     "name": "stdout",
     "output_type": "stream",
     "text": [
      "0      [200.0, 450.0]\n",
      "1      [230.0, 510.0]\n",
      "2          [nan, nan]\n",
      "3          [nan, nan]\n",
      "4         [8.0, 37.0]\n",
      "            ...      \n",
      "259        [nan, nan]\n",
      "260        [nan, nan]\n",
      "261        [nan, nan]\n",
      "262        [0.4, 3.0]\n",
      "263        [0.1, 0.8]\n",
      "Name: range, Length: 264, dtype: object\n"
     ]
    }
   ],
   "source": [
    "df['range'] = temp_data.values.tolist()\n",
    "print(df['range'])"
   ]
  },
  {
   "cell_type": "code",
   "execution_count": 16,
   "metadata": {},
   "outputs": [
    {
     "data": {
      "text/plain": [
       "450.0"
      ]
     },
     "execution_count": 16,
     "metadata": {},
     "output_type": "execute_result"
    }
   ],
   "source": [
    "df['range'].iloc[0:1][0][1]"
   ]
  },
  {
   "cell_type": "code",
   "execution_count": 24,
   "metadata": {},
   "outputs": [],
   "source": [
    "df_grp = df.groupby(['lab'], dropna=True).mean()"
   ]
  },
  {
   "cell_type": "code",
   "execution_count": 25,
   "metadata": {},
   "outputs": [
    {
     "name": "stdout",
     "output_type": "stream",
     "text": [
      "         lower_limit  upper_limit\n",
      "lab                              \n",
      "benioff    63.181818   147.800000\n",
      "labcorp    39.568182   158.780303\n",
      "mayo       33.255814   119.069767\n"
     ]
    }
   ],
   "source": [
    "print(df_grp)"
   ]
  },
  {
   "cell_type": "code",
   "execution_count": 19,
   "metadata": {},
   "outputs": [
    {
     "data": {
      "text/plain": [
       "<pandas.core.groupby.generic.DataFrameGroupBy object at 0x000001D04C43BC10>"
      ]
     },
     "execution_count": 19,
     "metadata": {},
     "output_type": "execute_result"
    }
   ],
   "source": [
    "df_grp[]"
   ]
  },
  {
   "cell_type": "code",
   "execution_count": 26,
   "metadata": {},
   "outputs": [
    {
     "name": "stdout",
     "output_type": "stream",
     "text": [
      "                        analyte      lab    age  lower_limit  upper_limit  \\\n",
      "173                     alanine  labcorp  adult        124.8        564.2   \n",
      "175      Alpha-aminoadipic acid  labcorp  adult          0.0          2.2   \n",
      "177  Alpha-amino-N-butyric acid  labcorp  adult          5.4         34.5   \n",
      "179                    Arginine  labcorp  adult         32.0        150.0   \n",
      "181                  Asparagine  labcorp  adult         29.5         84.5   \n",
      "183               Aspartic acid  labcorp  adult          0.9          7.4   \n",
      "185                Beta-alanine  labcorp  adult          1.1          9.0   \n",
      "187  Beta-amino-isobutyric acid  labcorp  adult          NaN          NaN   \n",
      "189                   Carnosine  labcorp  adult          NaN          NaN   \n",
      "191                  Citrulline  labcorp  adult         13.7         63.2   \n",
      "193                     Cystine  labcorp  adult         13.5         60.2   \n",
      "195               Glutamic acid  labcorp  adult         18.1        155.9   \n",
      "197                   Glutamine  labcorp  adult        332.0        754.0   \n",
      "199                     Glycine  labcorp  adult        132.0        467.0   \n",
      "201                   Histidine  labcorp  adult         47.2         98.5   \n",
      "203              Hydroxyproline  labcorp  adult          4.7         35.2   \n",
      "205                  Isoleucine  labcorp  adult         27.7        112.8   \n",
      "207                     Leucine  labcorp  adult         54.9        205.0   \n",
      "209                      Lysine  labcorp  adult         94.0        278.0   \n",
      "211                  Methionine  labcorp  adult         12.7         41.1   \n",
      "213           1-methylhistidine  labcorp  adult          NaN          NaN   \n",
      "215           3-methylhistidine  labcorp  adult          NaN          NaN   \n",
      "217                   Ornithine  labcorp  adult         30.5        131.4   \n",
      "219               Phenylalanine  labcorp  adult         33.6        101.9   \n",
      "221               Phosphoserine  labcorp  adult          NaN          NaN   \n",
      "223         Phosphoethanolamine  labcorp  adult          NaN          NaN   \n",
      "225                     Proline  labcorp  adult         84.8        352.5   \n",
      "227                      Serine  labcorp  adult         48.7        145.2   \n",
      "229                     Taurine  labcorp  adult         29.2        132.3   \n",
      "231                   Threonine  labcorp  adult         67.8        211.6   \n",
      "233                    Tyrosine  labcorp  adult         31.1        118.1   \n",
      "235                      Valine  labcorp  adult        102.6        345.4   \n",
      "237                ethanolamine  labcorp  adult          NaN          NaN   \n",
      "239                   Sarcosine  labcorp  adult          0.0          4.0   \n",
      "241       Argininosuccinic Acid  labcorp  adult          NaN          NaN   \n",
      "243                    Anserine  labcorp  adult          NaN          NaN   \n",
      "245               Homocitruline  labcorp  adult          0.0          1.7   \n",
      "247      g-Amino-n-butyric Acid  labcorp  adult          0.0          0.3   \n",
      "249   Beta-Aminoisobutyric Acid  labcorp  adult          0.3          4.3   \n",
      "251               Cystathionine  labcorp  adult          NaN          NaN   \n",
      "253                  Tryptophan  labcorp  adult          NaN          NaN   \n",
      "255              Alloisoleucine  labcorp  adult          0.4          3.2   \n",
      "257                 Homocystine  labcorp  adult          0.0          0.1   \n",
      "263               Hydroxylysine  labcorp  adult          0.1          0.8   \n",
      "\n",
      "              range  \n",
      "173  [124.8, 564.2]  \n",
      "175      [0.0, 2.2]  \n",
      "177     [5.4, 34.5]  \n",
      "179   [32.0, 150.0]  \n",
      "181    [29.5, 84.5]  \n",
      "183      [0.9, 7.4]  \n",
      "185      [1.1, 9.0]  \n",
      "187      [nan, nan]  \n",
      "189      [nan, nan]  \n",
      "191    [13.7, 63.2]  \n",
      "193    [13.5, 60.2]  \n",
      "195   [18.1, 155.9]  \n",
      "197  [332.0, 754.0]  \n",
      "199  [132.0, 467.0]  \n",
      "201    [47.2, 98.5]  \n",
      "203     [4.7, 35.2]  \n",
      "205   [27.7, 112.8]  \n",
      "207   [54.9, 205.0]  \n",
      "209   [94.0, 278.0]  \n",
      "211    [12.7, 41.1]  \n",
      "213      [nan, nan]  \n",
      "215      [nan, nan]  \n",
      "217   [30.5, 131.4]  \n",
      "219   [33.6, 101.9]  \n",
      "221      [nan, nan]  \n",
      "223      [nan, nan]  \n",
      "225   [84.8, 352.5]  \n",
      "227   [48.7, 145.2]  \n",
      "229   [29.2, 132.3]  \n",
      "231   [67.8, 211.6]  \n",
      "233   [31.1, 118.1]  \n",
      "235  [102.6, 345.4]  \n",
      "237      [nan, nan]  \n",
      "239      [0.0, 4.0]  \n",
      "241      [nan, nan]  \n",
      "243      [nan, nan]  \n",
      "245      [0.0, 1.7]  \n",
      "247      [0.0, 0.3]  \n",
      "249      [0.3, 4.3]  \n",
      "251      [nan, nan]  \n",
      "253      [nan, nan]  \n",
      "255      [0.4, 3.2]  \n",
      "257      [0.0, 0.1]  \n",
      "263      [0.1, 0.8]  \n"
     ]
    }
   ],
   "source": [
    "child_df = df[df['age']=='child']\n",
    "adult_df = df[df['age']=='adult']\n",
    "\n",
    "child_df_mayo = child_df[child_df['lab']=='mayo']\n",
    "child_df_benioff = child_df[child_df['lab']=='benioff']\n",
    "child_df_labcorp = child_df[child_df['lab']=='labcorp']\n",
    "adult_df_mayo = adult_df[adult_df['lab']=='mayo']\n",
    "adult_df_benioff = adult_df[adult_df['lab']=='benioff']\n",
    "adult_df_labcorp = adult_df[adult_df['lab']=='labcorp']\n",
    "print(adult_df_labcorp)"
   ]
  },
  {
   "cell_type": "code",
   "execution_count": 32,
   "metadata": {},
   "outputs": [],
   "source": [
    "min_child_mayo = child_df_mayo['lower_limit'].tolist() \n",
    "min_child_benioff =child_df_benioff['lower_limit'].tolist() \n",
    "min_child_labcorp =child_df_labcorp['lower_limit'].tolist()\n",
    "min_adult_mayo = adult_df_mayo['lower_limit'].tolist() \n",
    "min_adult_benioff =adult_df_benioff['lower_limit'].tolist() \n",
    "min_adult_labcorp =adult_df_labcorp['lower_limit'].tolist()"
   ]
  },
  {
   "cell_type": "code",
   "execution_count": 33,
   "metadata": {},
   "outputs": [],
   "source": [
    "max_child_mayo = child_df_mayo['upper_limit'].tolist() \n",
    "max_child_benioff =child_df_benioff['upper_limit'].tolist() \n",
    "max_child_labcorp =child_df_labcorp['upper_limit'].tolist()\n",
    "max_adult_mayo = adult_df_mayo['upper_limit'].tolist() \n",
    "max_adult_benioff =adult_df_benioff['upper_limit'].tolist() \n",
    "max_adult_labcorp =adult_df_labcorp['upper_limit'].tolist()"
   ]
  },
  {
   "cell_type": "code",
   "execution_count": 31,
   "metadata": {},
   "outputs": [
    {
     "name": "stdout",
     "output_type": "stream",
     "text": [
      "[139.0, 0.0, 7.0, 29.0, 25.0, 2.0, 0.0, 0.0, 0.0, 9.0, 2.0, 31.0, 316.0, 111.0, 10.0, 8.0, 31.0, 48.0, 49.0, 11.0, 0.0, 0.0, 20.0, 28.0, 0.0, 0.0, 85.0, 69.0, 37.0, 47.0, 26.0, 83.0, 0.0, 0.0, 0.0, 0.0, 0.0, 0.0, 0.0, 0.0, 0.0, 17.0, 0.0, nan]\n"
     ]
    }
   ],
   "source": []
  },
  {
   "cell_type": "code",
   "execution_count": 35,
   "metadata": {},
   "outputs": [
    {
     "data": {
      "text/plain": [
       "Text(0.5, 1.0, 'Child Values')"
      ]
     },
     "execution_count": 35,
     "metadata": {},
     "output_type": "execute_result"
    },
    {
     "data": {
      "image/png": "[encoded data removed]",
      "text/plain": [
       "<Figure size 432x288 with 1 Axes>"
      ]
     },
     "metadata": {
      "needs_background": "light"
     },
     "output_type": "display_data"
    }
   ],
   "source": [
    "plt.plot(min_child_mayo, max_child_mayo, 'o', color='r', label='Mayo')\n",
    "plt.plot(min_child_benioff, max_child_benioff, '^', color='b', label='Benioff')\n",
    "plt.plot(min_child_labcorp, max_child_labcorp, '.', color='g', label='Labcorp')\n",
    "plt.legend()\n",
    "plt.xlabel('Min Value')\n",
    "plt.ylabel('Max Value')\n",
    "plt.title(\"Child Values\")"
   ]
  },
  {
   "cell_type": "code",
   "execution_count": 36,
   "metadata": {},
   "outputs": [
    {
     "data": {
      "text/plain": [
       "Text(0.5, 1.0, 'Adult Values')"
      ]
     },
     "execution_count": 36,
     "metadata": {},
     "output_type": "execute_result"
    },
    {
     "data": {
      "image/png": "[encoded data removed]",
      "text/plain": [
       "<Figure size 432x288 with 1 Axes>"
      ]
     },
     "metadata": {
      "needs_background": "light"
     },
     "output_type": "display_data"
    }
   ],
   "source": [
    "plt.plot(min_adult_mayo, max_adult_mayo, 'o', color='r', label='Mayo')\n",
    "plt.plot(min_adult_benioff, max_adult_benioff, '^', color='b', label='Benioff')\n",
    "plt.plot(min_adult_labcorp, max_adult_labcorp, '.', color='g', label='Labcorp')\n",
    "plt.legend()\n",
    "plt.xlabel('Min Value')\n",
    "plt.ylabel('Max Value')\n",
    "plt.title(\"Adult Values\")"
   ]
  },
  {
   "cell_type": "code",
   "execution_count": 37,
   "metadata": {},
   "outputs": [
    {
     "data": {
      "text/plain": [
       "<AxesSubplot:>"
      ]
     },
     "execution_count": 37,
     "metadata": {},
     "output_type": "execute_result"
    },
    {
     "data": {
      "image/png": "[encoded data removed]",
      "text/plain": [
       "<Figure size 432x288 with 1 Axes>"
      ]
     },
     "metadata": {
      "needs_background": "light"
     },
     "output_type": "display_data"
    }
   ],
   "source": [
    "child_df[child_df['analyte']=='alanine'].loc[:,['analyte','lower_limit']].plot()"
   ]
  },
  {
   "cell_type": "code",
   "execution_count": 38,
   "metadata": {},
   "outputs": [
    {
     "data": {
      "text/plain": [
       "<matplotlib.legend.Legend at 0x1d04da60070>"
      ]
     },
     "execution_count": 38,
     "metadata": {},
     "output_type": "execute_result"
    },
    {
     "data": {
      "image/png": "[encoded data removed]",
      "text/plain": [
       "<Figure size 432x288 with 1 Axes>"
      ]
     },
     "metadata": {
      "needs_background": "light"
     },
     "output_type": "display_data"
    }
   ],
   "source": [
    "plt.scatter(1,2, color = 'r', label = 'test1')\n",
    "plt.scatter(1,4, color = 'g', label = 'test2')\n",
    "plt.scatter(2,4, color = 'r', label = 'test1')\n",
    "plt.scatter(2,5, color = 'g', label = 'test2')\n",
    "plt.scatter(3,3, color = 'r', label = 'test1')\n",
    "plt.scatter(3,1, color = 'g', label = 'test2')\n",
    "plt.legend()"
   ]
  },
  {
   "cell_type": "code",
   "execution_count": 39,
   "metadata": {},
   "outputs": [
    {
     "name": "stdout",
     "output_type": "stream",
     "text": [
      "44\n"
     ]
    }
   ],
   "source": [
    "print(len(df['analyte'].unique()))"
   ]
  },
  {
   "cell_type": "code",
   "execution_count": 88,
   "metadata": {
    "scrolled": true
   },
   "outputs": [
    {
     "data": {
      "text/plain": [
       "[Text(0, 0, 'alanine'),\n",
       " Text(1, 0, 'Alpha-aminoadipic acid'),\n",
       " Text(2, 0, 'Alpha-amino-N-butyric acid'),\n",
       " Text(3, 0, 'Arginine'),\n",
       " Text(4, 0, 'Asparagine'),\n",
       " Text(5, 0, 'Aspartic acid'),\n",
       " Text(6, 0, 'Beta-alanine'),\n",
       " Text(7, 0, 'Beta-amino-isobutyric acid'),\n",
       " Text(8, 0, 'Carnosine'),\n",
       " Text(9, 0, 'Citrulline'),\n",
       " Text(10, 0, 'Cystine'),\n",
       " Text(11, 0, 'Glutamic acid'),\n",
       " Text(12, 0, 'Glutamine'),\n",
       " Text(13, 0, 'Glycine'),\n",
       " Text(14, 0, 'Histidine'),\n",
       " Text(15, 0, 'Hydroxyproline'),\n",
       " Text(16, 0, 'Isoleucine'),\n",
       " Text(17, 0, 'Leucine'),\n",
       " Text(18, 0, 'Lysine'),\n",
       " Text(19, 0, 'Methionine'),\n",
       " Text(20, 0, '1-methylhistidine'),\n",
       " Text(21, 0, '3-methylhistidine'),\n",
       " Text(22, 0, 'Ornithine'),\n",
       " Text(23, 0, 'Phenylalanine'),\n",
       " Text(24, 0, 'Phosphoserine'),\n",
       " Text(25, 0, 'Phosphoethanolamine'),\n",
       " Text(26, 0, 'Proline'),\n",
       " Text(27, 0, 'Serine'),\n",
       " Text(28, 0, 'Taurine'),\n",
       " Text(29, 0, 'Threonine'),\n",
       " Text(30, 0, 'Tyrosine'),\n",
       " Text(31, 0, 'Valine'),\n",
       " Text(32, 0, 'ethanolamine'),\n",
       " Text(33, 0, 'Sarcosine'),\n",
       " Text(34, 0, 'Argininosuccinic Acid'),\n",
       " Text(35, 0, 'Anserine'),\n",
       " Text(36, 0, 'Homocitruline'),\n",
       " Text(37, 0, 'g-Amino-n-butyric Acid'),\n",
       " Text(38, 0, 'Beta-Aminoisobutyric Acid'),\n",
       " Text(39, 0, 'Hydroxylysine'),\n",
       " Text(40, 0, 'Cystathionine'),\n",
       " Text(41, 0, 'Tryptophan'),\n",
       " Text(42, 0, 'Alloisoleucine'),\n",
       " Text(43, 0, 'Homocystine')]"
      ]
     },
     "execution_count": 88,
     "metadata": {},
     "output_type": "execute_result"
    },
    {
     "data": {
      "image/png": "[encoded data removed]",
      "text/plain": [
       "<Figure size 432x288 with 1 Axes>"
      ]
     },
     "metadata": {
      "needs_background": "light"
     },
     "output_type": "display_data"
    }
   ],
   "source": [
    "value_range = list(range(44))\n",
    "fig = plt.figure()\n",
    "ax = fig.add_axes([0,0,2.5,2.5])\n",
    "ax.scatter(value_range,min_child_mayo, color='r', label='Mayo')\n",
    "ax.scatter(value_range,min_child_benioff, color='b', label='Benioff')\n",
    "ax.scatter(value_range,min_child_labcorp, color='g', label='Labcorp')\n",
    "ax.set_xticks(value_range)\n",
    "ax.set_xticklabels(list(df['analyte'].unique()), rotation= 'vertical')"
   ]
  },
  {
   "cell_type": "code",
   "execution_count": 45,
   "metadata": {},
   "outputs": [
    {
     "data": {
      "text/plain": [
       "[Text(0, 0, 'alanine'),\n",
       " Text(1, 0, 'Alpha-aminoadipic acid'),\n",
       " Text(2, 0, 'Alpha-amino-N-butyric acid'),\n",
       " Text(3, 0, 'Arginine'),\n",
       " Text(4, 0, 'Asparagine'),\n",
       " Text(5, 0, 'Aspartic acid'),\n",
       " Text(6, 0, 'Beta-alanine'),\n",
       " Text(7, 0, 'Beta-amino-isobutyric acid'),\n",
       " Text(8, 0, 'Carnosine'),\n",
       " Text(9, 0, 'Citrulline'),\n",
       " Text(10, 0, 'Cystine'),\n",
       " Text(11, 0, 'Glutamic acid'),\n",
       " Text(12, 0, 'Glutamine'),\n",
       " Text(13, 0, 'Glycine'),\n",
       " Text(14, 0, 'Histidine'),\n",
       " Text(15, 0, 'Hydroxyproline'),\n",
       " Text(16, 0, 'Isoleucine'),\n",
       " Text(17, 0, 'Leucine'),\n",
       " Text(18, 0, 'Lysine'),\n",
       " Text(19, 0, 'Methionine'),\n",
       " Text(20, 0, '1-methylhistidine'),\n",
       " Text(21, 0, '3-methylhistidine'),\n",
       " Text(22, 0, 'Ornithine'),\n",
       " Text(23, 0, 'Phenylalanine'),\n",
       " Text(24, 0, 'Phosphoserine'),\n",
       " Text(25, 0, 'Phosphoethanolamine'),\n",
       " Text(26, 0, 'Proline'),\n",
       " Text(27, 0, 'Serine'),\n",
       " Text(28, 0, 'Taurine'),\n",
       " Text(29, 0, 'Threonine'),\n",
       " Text(30, 0, 'Tyrosine'),\n",
       " Text(31, 0, 'Valine'),\n",
       " Text(32, 0, 'ethanolamine'),\n",
       " Text(33, 0, 'Sarcosine'),\n",
       " Text(34, 0, 'Argininosuccinic Acid'),\n",
       " Text(35, 0, 'Anserine'),\n",
       " Text(36, 0, 'Homocitruline'),\n",
       " Text(37, 0, 'g-Amino-n-butyric Acid'),\n",
       " Text(38, 0, 'Beta-Aminoisobutyric Acid'),\n",
       " Text(39, 0, 'Hydroxylysine'),\n",
       " Text(40, 0, 'Cystathionine'),\n",
       " Text(41, 0, 'Tryptophan'),\n",
       " Text(42, 0, 'Alloisoleucine'),\n",
       " Text(43, 0, 'Homocystine')]"
      ]
     },
     "execution_count": 45,
     "metadata": {},
     "output_type": "execute_result"
    },
    {
     "data": {
      "image/png": "[encoded data removed]",
      "text/plain": [
       "<Figure size 432x288 with 1 Axes>"
      ]
     },
     "metadata": {
      "needs_background": "light"
     },
     "output_type": "display_data"
    }
   ],
   "source": [
    "value_range = list(range(44))\n",
    "fig = plt.figure()\n",
    "ax = fig.add_axes([0,0,2.5,2.5])\n",
    "ax.scatter(value_range,max_child_mayo, color='r', label='Mayo')\n",
    "ax.scatter(value_range,max_child_benioff, color='b', label='Benioff')\n",
    "ax.scatter(value_range,max_child_labcorp, color='g', label='Labcorp')\n",
    "ax.set_xticks(value_range)\n",
    "ax.set_xticklabels(list(df['analyte'].unique()), rotation= 'vertical')"
   ]
  },
  {
   "cell_type": "code",
   "execution_count": 55,
   "metadata": {},
   "outputs": [
    {
     "name": "stdout",
     "output_type": "stream",
     "text": [
      "0.695\n",
      "0.875\n",
      "0.6590909090909091\n",
      "1.6666666666666667\n",
      "0.5625\n",
      "0.10526315789473684\n",
      "0.96875\n",
      "0.7523809523809524\n",
      "1.009090909090909\n",
      "0.14705882352941177\n",
      "0.8378378378378378\n",
      "0.6857142857142857\n",
      "0.4083333333333333\n",
      "0.8461538461538461\n",
      "0.45454545454545453\n",
      "1.0769230769230769\n",
      "0.6538461538461539\n",
      "0.7419354838709677\n",
      "3.3636363636363638\n",
      "0.7014925373134329\n",
      "1.0\n",
      "0.51875\n",
      "nan\n",
      "nan\n"
     ]
    }
   ],
   "source": [
    "ratio_mayo_benioff = []\n",
    "ratio_mayo_labcorp = []\n",
    "ratio_benioff_labcorp = []\n",
    "for i in range(len(min_child_mayo)):\n",
    "    if 0 not in [min_child_mayo[i],min_child_benioff[i]]:\n",
    "        x = min_child_mayo[i]/min_child_benioff[i]\n",
    "        ratio_mayo_benioff += [x]\n",
    "        print(x)\n",
    "    else:\n",
    "        if 0 != min_child_benioff[i]:\n",
    "            x =min_child_mayo[i]/min_child_benioff[i]\n",
    "            ratio_mayo_benioff += [x]\n",
    "        elif 0 != min_child_mayo[i]:\n",
    "            x = (-1)*min_child_benioff[i]/min_child_mayo[i]\n",
    "            ratio_mayo_benioff += [x]\n",
    "        else:\n",
    "            ratio_mayo_benioff +=[0]\n",
    "            "
   ]
  },
  {
   "cell_type": "code",
   "execution_count": 57,
   "metadata": {},
   "outputs": [
    {
     "name": "stdout",
     "output_type": "stream",
     "text": [
      "1.1487603305785123\n",
      "1.5555555555555556\n",
      "1.4948453608247423\n",
      "1.2376237623762376\n",
      "1.1111111111111112\n",
      "1.9148936170212765\n",
      "0.3278688524590164\n",
      "0.8157894736842105\n",
      "1.196969696969697\n",
      "0.7623626373626374\n",
      "0.23310023310023312\n",
      "0.42105263157894735\n",
      "1.6062176165803108\n",
      "1.0909090909090908\n",
      "0.5889423076923077\n",
      "0.7913669064748201\n",
      "0.6557377049180327\n",
      "0.9824561403508771\n",
      "1.0083036773428233\n",
      "1.1386138613861385\n",
      "1.289198606271777\n",
      "0.7742998352553542\n",
      "1.2149532710280375\n",
      "1.129251700680272\n",
      "56.66666666666667\n",
      "nan\n"
     ]
    }
   ],
   "source": [
    "for i in range(len(min_child_mayo)):\n",
    "    if 0 not in [min_child_mayo[i],min_child_labcorp[i]]:\n",
    "        x = min_child_mayo[i]/min_child_labcorp[i]\n",
    "        ratio_mayo_labcorp += [x]\n",
    "        print(x)\n",
    "    else:\n",
    "        if 0 != min_child_labcorp[i]:\n",
    "            x =min_child_mayo[i]/min_child_labcorp[i]\n",
    "            ratio_mayo_labcorp += [x]\n",
    "        elif 0 != min_child_mayo[i]:\n",
    "            x = (-1)*min_child_blabcorp[i]/min_child_mayo[i]\n",
    "            ratio_mayo_labcorp += [x]\n",
    "        else:\n",
    "            ratio_mayo_labcorp +=[0]"
   ]
  },
  {
   "cell_type": "code",
   "execution_count": 60,
   "metadata": {},
   "outputs": [
    {
     "name": "stdout",
     "output_type": "stream",
     "text": [
      "0.605\n",
      "0.5625\n",
      "0.44090909090909086\n",
      "1.3466666666666667\n",
      "nan\n",
      "nan\n",
      "0.29375\n",
      "0.32105263157894737\n",
      "1.1875\n",
      "0.6285714285714286\n",
      "1.3236363636363635\n",
      "0.6308823529411764\n",
      "0.5216216216216216\n",
      "0.6285714285714286\n",
      "0.6933333333333334\n",
      "1.0692307692307692\n",
      "nan\n",
      "0.6931818181818182\n",
      "1.0961538461538463\n",
      "0.6484615384615384\n",
      "0.6516129032258065\n",
      "2.609090909090909\n",
      "0.9059701492537314\n",
      "0.823076923076923\n",
      "0.459375\n",
      "nan\n",
      "nan\n",
      "nan\n",
      "nan\n",
      "nan\n",
      "nan\n",
      "nan\n",
      "nan\n"
     ]
    }
   ],
   "source": [
    "for i in range(len(min_child_labcorp)):\n",
    "    if 0 not in [min_child_labcorp[i],min_child_benioff[i]]:\n",
    "        x = min_child_labcorp[i]/min_child_benioff[i]\n",
    "        ratio_benioff_labcorp += [x]\n",
    "        print(x)\n",
    "    else:\n",
    "        if 0 != min_child_benioff[i]:\n",
    "            x =min_child_labcorp[i]/min_child_benioff[i]\n",
    "            ratio_benioff_labcorp += [x]\n",
    "        elif 0 != min_child_labcorp[i]:\n",
    "            x = (-1)*min_child_benioff[i]/min_child_labcorp[i]\n",
    "            ratio_benioff_labcorp += [x]\n",
    "        else:\n",
    "            ratio_benioff_labcorp +=[0]"
   ]
  },
  {
   "cell_type": "code",
   "execution_count": 61,
   "metadata": {},
   "outputs": [
    {
     "name": "stdout",
     "output_type": "stream",
     "text": [
      "[0.695, nan, 0.875, 0.6590909090909091, 1.6666666666666667, -0.0, 0, nan, nan, 0.5625, 0.10526315789473684, 0.96875, 0.7523809523809524, 1.009090909090909, 0.14705882352941177, -0.0, 0.8378378378378378, 0.6857142857142857, 0.4083333333333333, 0.8461538461538461, nan, 0, 0.45454545454545453, 1.0769230769230769, 0, 0, 0.6538461538461539, 0.7419354838709677, 3.3636363636363638, 0.7014925373134329, 1.0, 0.51875, nan, nan, nan, nan, nan, nan, nan, nan, nan, nan, nan, nan]\n",
      "[1.1487603305785123, 0, 1.5555555555555556, 1.4948453608247423, 1.2376237623762376, 1.1111111111111112, 0.0, nan, nan, 1.9148936170212765, 0.3278688524590164, 0.8157894736842105, 1.196969696969697, 0.7623626373626374, 0.23310023310023312, 0.42105263157894735, 1.6062176165803108, 1.0909090909090908, 0.5889423076923077, 0.7913669064748201, nan, nan, 0.6557377049180327, 0.9824561403508771, nan, nan, 1.0083036773428233, 1.1386138613861385, 1.289198606271777, 0.7742998352553542, 1.2149532710280375, 1.129251700680272, nan, 0, nan, nan, 0, 0, 0.0, nan, nan, 56.66666666666667, 0, nan]\n",
      "[0.605, 0.605, nan, 0.5625, 0.44090909090909086, 1.3466666666666667, -0.0, -0.0, nan, nan, 0.29375, 0.32105263157894737, 1.1875, 0.6285714285714286, 1.3236363636363635, 0.6308823529411764, -0.0, 0.5216216216216216, 0.6285714285714286, 0.6933333333333334, 1.0692307692307692, nan, nan, 0.6931818181818182, 1.0961538461538463, nan, nan, 0.6484615384615384, 0.6516129032258065, 2.609090909090909, 0.9059701492537314, 0.823076923076923, 0.459375, nan, nan, nan, nan, nan, nan, nan, nan, nan, nan, nan, nan]\n"
     ]
    }
   ],
   "source": [
    "print(ratio_mayo_benioff)\n",
    "print(ratio_mayo_labcorp)\n",
    "print(ratio_benioff_labcorp)"
   ]
  },
  {
   "cell_type": "code",
   "execution_count": 79,
   "metadata": {},
   "outputs": [],
   "source": [
    "clnRat_MayBen  = []\n",
    "count = 0\n",
    "for x in np.isnan(ratio_mayo_benioff):\n",
    "    if x == False:\n",
    "        clnRat_MayBen .append(ratio_mayo_benioff[count])\n",
    "    count +=1"
   ]
  },
  {
   "cell_type": "code",
   "execution_count": 85,
   "metadata": {},
   "outputs": [
    {
     "name": "stdout",
     "output_type": "stream",
     "text": [
      "min:  -0.0\n",
      "max:  3.3636363636363638\n",
      "mean:  0.6689274925652978\n"
     ]
    }
   ],
   "source": [
    "print(\"min: \", min(clnRat_MayBen))\n",
    "print(\"max: \", max(clnRat_MayBen))\n",
    "print(\"mean: \", mean(clnRat_MayBen))"
   ]
  },
  {
   "cell_type": "code",
   "execution_count": 81,
   "metadata": {},
   "outputs": [],
   "source": [
    "clnRat_MayLab = []\n",
    "count = 0\n",
    "for x in np.isnan(ratio_mayo_labcorp):\n",
    "    if x == False:\n",
    "        clnRat_MayLab.append(ratio_mayo_labcorp[count])\n",
    "    count +=1"
   ]
  },
  {
   "cell_type": "code",
   "execution_count": 86,
   "metadata": {},
   "outputs": [
    {
     "name": "stdout",
     "output_type": "stream",
     "text": [
      "min:  0\n",
      "max:  56.66666666666667\n",
      "mean:  2.536151582755584\n"
     ]
    }
   ],
   "source": [
    "print(\"min: \", min(clnRat_MayLab))\n",
    "print(\"max: \", max(clnRat_MayLab))\n",
    "print(\"mean: \", mean(clnRat_MayLab))"
   ]
  },
  {
   "cell_type": "code",
   "execution_count": 82,
   "metadata": {},
   "outputs": [],
   "source": [
    "clnRat_BenLab = []\n",
    "count = 0\n",
    "for x in np.isnan(ratio_benioff_labcorp):\n",
    "    if x == False:\n",
    "        clnRat_BenLab.append(ratio_benioff_labcorp[count])\n",
    "    count +=1"
   ]
  },
  {
   "cell_type": "code",
   "execution_count": 87,
   "metadata": {},
   "outputs": [
    {
     "name": "stdout",
     "output_type": "stream",
     "text": [
      "min:  -0.0\n",
      "max:  2.609090909090909\n",
      "mean:  0.7209672605579\n"
     ]
    }
   ],
   "source": [
    "print(\"min: \", min(clnRat_BenLab))\n",
    "print(\"max: \", max(clnRat_BenLab))\n",
    "print(\"mean: \", mean(clnRat_BenLab))"
   ]
  },
  {
   "cell_type": "code",
   "execution_count": null,
   "metadata": {},
   "outputs": [],
   "source": [
    "print()"
   ]
  }
 ],
 "metadata": {
  "kernelspec": {
   "display_name": "Python 3",
   "language": "python",
   "name": "python3"
  },
  "language_info": {
   "codemirror_mode": {
    "name": "ipython",
    "version": 3
   },
   "file_extension": ".py",
   "mimetype": "text/x-python",
   "name": "python",
   "nbconvert_exporter": "python",
   "pygments_lexer": "ipython3",
   "version": "3.9.4"
  }
 },
 "nbformat": 4,
 "nbformat_minor": 4
}
